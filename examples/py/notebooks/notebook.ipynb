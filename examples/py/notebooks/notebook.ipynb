{
 "cells": [
  {
   "cell_type": "markdown",
   "metadata": {},
   "source": [
    "Notebook Widgets\n",
    "=================\n",
    "\n",
    "This example demonstrates the useage of Jupyter Widgets\n",
    "to modify a Tissue Forge simulation."
   ]
  },
  {
   "cell_type": "markdown",
   "metadata": {},
   "source": [
    "Basic Setup\n",
    "------------\n",
    "\n",
    "Begin by initializing Tissue Forge and importing the necessary packages."
   ]
  },
  {
   "cell_type": "code",
   "execution_count": 2,
   "metadata": {},
   "outputs": [],
   "source": [
    "import tissue_forge as tf\n",
    "import ipywidgets as widgets\n",
    "from IPython.display import display\n",
    "import numpy as np\n",
    "\n",
    "#dimensions of universe\n",
    "sideLength = 10\n",
    "dim = [sideLength, sideLength, sideLength]\n",
    "\n",
    "# new simulator\n",
    "tf.init(dim=dim)"
   ]
  },
  {
   "cell_type": "markdown",
   "metadata": {},
   "source": [
    "Particle Types\n",
    "---------------\n",
    "\n",
    "Declare two particle types that, other than their rendering style, represent indistinguishable types of cells. Bind the potential with the types of the particles."
   ]
  },
  {
   "cell_type": "code",
   "execution_count": 3,
   "metadata": {},
   "outputs": [
    {
     "data": {
      "text/plain": [
       "0"
      ]
     },
     "execution_count": 3,
     "metadata": {},
     "output_type": "execute_result"
    }
   ],
   "source": [
    "class AType(tf.ParticleTypeSpec):\n",
    "    mass = 40\n",
    "    radius = 0.4\n",
    "    style = {'color': 'lavender'}\n",
    "\n",
    "\n",
    "A = AType.get()\n",
    "\n",
    "\n",
    "class BType(tf.ParticleTypeSpec):\n",
    "    mass = 40\n",
    "    radius = 0.4\n",
    "    style = {'color': 'lightsteelblue'}\n",
    "\n",
    "\n",
    "B = BType.get()\n",
    "\n",
    "pot = tf.Potential.lennard_jones_12_6(0.275, 3.0, 9.5075e-06, 6.1545e-03, 1.0e-3)\n",
    "\n",
    "tf.bind.types(pot, A, A)\n",
    "tf.bind.types(pot, B, B)"
   ]
  },
  {
   "cell_type": "markdown",
   "metadata": {},
   "source": [
    "Adding Particles\n",
    "=============\n",
    "\n",
    "For this demonstration, particles will be added to the simulation manually. Widgets like the particle slider will allow you to skip this step."
   ]
  },
  {
   "cell_type": "code",
   "execution_count": 4,
   "metadata": {},
   "outputs": [],
   "source": [
    "# total number of cells\n",
    "A_count = 100\n",
    "B_count = 100\n",
    "\n",
    "for p in np.random.random((A_count, 3)) * sideLength:\n",
    "    A(p)\n",
    "\n",
    "for p in np.random.random((B_count, 3)) * sideLength:\n",
    "    B(p)"
   ]
  },
  {
   "cell_type": "markdown",
   "metadata": {},
   "source": [
    "Color Changing Widgets\n",
    "---------------\n",
    "\n",
    "Call two color picker widgets that use color wheels to modify particle colors. "
   ]
  },
  {
   "cell_type": "code",
   "execution_count": 5,
   "metadata": {},
   "outputs": [
    {
     "data": {
      "application/vnd.jupyter.widget-view+json": {
       "model_id": "dcddbbbe37af44e58b0164e7cb7211b8",
       "version_major": 2,
       "version_minor": 0
      },
      "text/plain": [
       "VBox(children=(Image(value=b'\\xff\\xd8\\xff\\xe0\\x00\\x10JFIF\\x00\\x01\\x01\\x00\\x00\\x01\\x00\\x01\\x00\\x00\\xff\\xdb\\x00\\…"
      ]
     },
     "metadata": {},
     "output_type": "display_data"
    },
    {
     "data": {
      "application/vnd.jupyter.widget-view+json": {
       "model_id": "3764e4582aea43b3abbfb490728ab488",
       "version_major": 2,
       "version_minor": 0
      },
      "text/plain": [
       "HBox(children=(ColorPicker(value='#c9c9f3', description='Color for type AType'), ColorPicker(value='#6e8cba', …"
      ]
     },
     "metadata": {},
     "output_type": "display_data"
    }
   ],
   "source": [
    "color_picker_a = tf.notebook.set_ptype_color_picker(A)\n",
    "color_picker_b = tf.notebook.set_ptype_color_picker(B)\n",
    "hbox = widgets.HBox([color_picker_a, color_picker_b])\n",
    "\n",
    "tf.show()\n",
    "\n",
    "display(hbox)"
   ]
  },
  {
   "cell_type": "markdown",
   "metadata": {},
   "source": [
    "Radius Changing Widgets\n",
    "---------------\n",
    "\n",
    "Call two radius changing widgets that use sliders and text boxes to modify particle radii. "
   ]
  },
  {
   "cell_type": "code",
   "execution_count": 6,
   "metadata": {},
   "outputs": [
    {
     "data": {
      "application/vnd.jupyter.widget-view+json": {
       "model_id": "fbdb2c3e4de24075a79805709e8779b5",
       "version_major": 2,
       "version_minor": 0
      },
      "text/plain": [
       "VBox(children=(Image(value=b'', width='600'), HBox(children=(ToggleButton(value=False, description='Run', icon…"
      ]
     },
     "metadata": {},
     "output_type": "display_data"
    },
    {
     "data": {
      "application/vnd.jupyter.widget-view+json": {
       "model_id": "3c57a406d69a4c1999a1f490e15ac5d5",
       "version_major": 2,
       "version_minor": 0
      },
      "text/plain": [
       "HBox(children=(HBox(children=(FloatSlider(value=0.4000000059604645, continuous_update=False, description='Radi…"
      ]
     },
     "metadata": {},
     "output_type": "display_data"
    }
   ],
   "source": [
    "radius_changer_a = tf.notebook.set_ptype_radius_slider(A)\n",
    "radius_changer_b = tf.notebook.set_ptype_radius_text(B)\n",
    "\n",
    "tf.show()\n",
    "\n",
    "hbox = widgets.HBox([radius_changer_a[0], radius_changer_b[0]])\n",
    "display(hbox)"
   ]
  },
  {
   "cell_type": "markdown",
   "metadata": {},
   "source": [
    "Scene Modifying Widgets\n",
    "---------------\n",
    "\n",
    "Call three widgets that use color pickers, sliders, and text boxes wheels to modify the scene. "
   ]
  },
  {
   "cell_type": "code",
   "execution_count": 7,
   "metadata": {},
   "outputs": [
    {
     "data": {
      "application/vnd.jupyter.widget-view+json": {
       "model_id": "3ba502a1ec2946f5bcd1bdc6f5af27f5",
       "version_major": 2,
       "version_minor": 0
      },
      "text/plain": [
       "VBox(children=(Image(value=b'', width='600'), HBox(children=(ToggleButton(value=False, description='Run', icon…"
      ]
     },
     "metadata": {},
     "output_type": "display_data"
    },
    {
     "data": {
      "application/vnd.jupyter.widget-view+json": {
       "model_id": "17e1111ddc74421d9e98734ae5c5cf5a",
       "version_major": 2,
       "version_minor": 0
      },
      "text/plain": [
       "ColorPicker(value='#595959', description='Pick a color')"
      ]
     },
     "metadata": {},
     "output_type": "display_data"
    },
    {
     "data": {
      "application/vnd.jupyter.widget-view+json": {
       "model_id": "f0c86ef8b61747e08dcac1c37d03751f",
       "version_major": 2,
       "version_minor": 0
      },
      "text/plain": [
       "HBox(children=(Label(value='Grid:', style=LabelStyle(description_width='initial')), BoundedFloatText(value=1.0…"
      ]
     },
     "metadata": {},
     "output_type": "display_data"
    },
    {
     "data": {
      "application/vnd.jupyter.widget-view+json": {
       "model_id": "d148c916b1564a7c9237c3a4c683b757",
       "version_major": 2,
       "version_minor": 0
      },
      "text/plain": [
       "HBox(children=(Label(value='Borders:', style=LabelStyle(description_width='initial')), FloatSlider(value=1.0, …"
      ]
     },
     "metadata": {},
     "output_type": "display_data"
    }
   ],
   "source": [
    "scene_changer_a = tf.notebook.set_background_picker()\n",
    "scene_changer_b = tf.notebook.set_grid_text()\n",
    "scene_changer_c = tf.notebook.set_borders_slider()\n",
    "\n",
    "tf.show()\n",
    "\n",
    "display(scene_changer_a)\n",
    "display(scene_changer_b[0])\n",
    "display(scene_changer_c[0])"
   ]
  },
  {
   "cell_type": "markdown",
   "metadata": {},
   "source": [
    "Particle Adding Slider\n",
    "---------------\n",
    "\n",
    "Call a slider and text box that increases or decreases the number of particles in a simulation."
   ]
  },
  {
   "cell_type": "code",
   "execution_count": 8,
   "metadata": {},
   "outputs": [
    {
     "data": {
      "application/vnd.jupyter.widget-view+json": {
       "model_id": "6721d02a4a9f4f4bbac48cbef3b7373c",
       "version_major": 2,
       "version_minor": 0
      },
      "text/plain": [
       "VBox(children=(Image(value=b'', width='600'), HBox(children=(ToggleButton(value=False, description='Run', icon…"
      ]
     },
     "metadata": {},
     "output_type": "display_data"
    },
    {
     "data": {
      "application/vnd.jupyter.widget-view+json": {
       "model_id": "30ce1d1bc67e45a2a05ad4fce9f474a4",
       "version_major": 2,
       "version_minor": 0
      },
      "text/plain": [
       "HBox(children=(HBox(children=(IntSlider(value=100, continuous_update=False, description='Particle # for type A…"
      ]
     },
     "metadata": {},
     "output_type": "display_data"
    }
   ],
   "source": [
    "particle_adder_a = tf.notebook.set_ptype_number_slider(A, step = 10)\n",
    "particle_adder_b = tf.notebook.set_ptype_number_text(B)\n",
    "\n",
    "tf.show()\n",
    "\n",
    "hbox = widgets.HBox([particle_adder_a[0], particle_adder_b[0]])\n",
    "display(hbox)"
   ]
  }
 ],
 "metadata": {
  "kernelspec": {
   "display_name": "tissueforge",
   "language": "python",
   "name": "python3"
  },
  "language_info": {
   "codemirror_mode": {
    "name": "ipython",
    "version": 3
   },
   "file_extension": ".py",
   "mimetype": "text/x-python",
   "name": "python",
   "nbconvert_exporter": "python",
   "pygments_lexer": "ipython3",
   "version": "3.9.16"
  }
 },
 "nbformat": 4,
 "nbformat_minor": 2
}
