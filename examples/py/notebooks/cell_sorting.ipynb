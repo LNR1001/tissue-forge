{
 "cells": [
  {
   "cell_type": "markdown",
   "metadata": {},
   "source": [
    "Cell Sorting\n",
    "=============\n",
    "\n",
    "This example demonstrates constructing a simulation of cell sorting, \n",
    "an event where biological cells of different types sort due to \n",
    "differential adhesion. "
   ]
  },
  {
   "cell_type": "markdown",
   "metadata": {},
   "source": [
    "Basic Setup\n",
    "------------\n",
    "\n",
    "Begin by initializing Tissue Forge with an explicit cutoff distance, which defines the maximum distance over which any two particles can interact, \n",
    "as well as the number of particles to create for two different particle types. "
   ]
  },
  {
   "cell_type": "code",
   "execution_count": 1,
   "metadata": {},
   "outputs": [],
   "source": [
    "import tissue_forge as tf\n",
    "import numpy as np\n",
    "from matplotlib import pyplot as plt\n",
    "import ipywidgets as ipw\n",
    "\n",
    "# total number of cells\n",
    "A_count = 5000\n",
    "B_count = 5000\n",
    "\n",
    "# potential cutoff distance\n",
    "cutoff = 3\n",
    "\n",
    "# dimensions of universe\n",
    "dim = [20., 20., 20.]\n",
    "\n",
    "# new simulator\n",
    "tf.init(dim=dim, cutoff=cutoff)"
   ]
  },
  {
   "cell_type": "markdown",
   "metadata": {},
   "source": [
    "Particle Types\n",
    "---------------\n",
    "\n",
    "Declare two particle types that, other than their rendering style, represent indistinguishable types of cells. \n",
    "Since these types represent cell types, use overdamped dynamics. "
   ]
  },
  {
   "cell_type": "code",
   "execution_count": 2,
   "metadata": {},
   "outputs": [],
   "source": [
    "class AType(tf.ParticleTypeSpec):\n",
    "    mass = 40\n",
    "    radius = 0.4\n",
    "    dynamics = tf.Overdamped\n",
    "    style = {'color': 'red'}\n",
    "\n",
    "\n",
    "A = AType.get()\n",
    "\n",
    "\n",
    "class BType(tf.ParticleTypeSpec):\n",
    "    mass = 40\n",
    "    radius = 0.4\n",
    "    dynamics = tf.Overdamped\n",
    "    style = {'color': 'blue'}\n",
    "\n",
    "\n",
    "B = BType.get()"
   ]
  },
  {
   "cell_type": "markdown",
   "metadata": {},
   "source": [
    "Differential Adhesion\n",
    "----------------------\n",
    "\n",
    "Cells adhere, and the strength of adhesion depends on the type of each of two contacting cells. \n",
    "Create Morse potentials for cell adhesion, where heterotypic contact pairs adhere less than \n",
    "homotypic contact pairs. "
   ]
  },
  {
   "cell_type": "code",
   "execution_count": 3,
   "metadata": {},
   "outputs": [
    {
     "data": {
      "text/plain": [
       "0"
      ]
     },
     "execution_count": 3,
     "metadata": {},
     "output_type": "execute_result"
    }
   ],
   "source": [
    "# create three potentials, one for each pair of contacting types\n",
    "pot_aa = tf.Potential.morse(d=3, a=5, min=-0.8, max=2)\n",
    "pot_bb = tf.Potential.morse(d=3, a=5, min=-0.8, max=2)\n",
    "pot_ab = tf.Potential.morse(d=0.3, a=5, min=-0.8, max=2)\n",
    "\n",
    "# bind the potentials by type\n",
    "tf.bind.types(pot_aa, A, A)\n",
    "tf.bind.types(pot_bb, B, B)\n",
    "tf.bind.types(pot_ab, A, B)"
   ]
  },
  {
   "cell_type": "markdown",
   "metadata": {},
   "source": [
    "Verify Cell Sorting\n",
    "--------------------\n",
    "\n",
    "Dynamics will evolve the system such that it tends towards an energy minimum. \n",
    "Verify that the potentials for cell adhesion should create a lowest energy state that results in a sorted configuration. "
   ]
  },
  {
   "cell_type": "code",
   "execution_count": 4,
   "metadata": {},
   "outputs": [
    {
     "data": {
      "text/plain": [
       "<matplotlib.legend.Legend at 0x1cb61574280>"
      ]
     },
     "execution_count": 4,
     "metadata": {},
     "output_type": "execute_result"
    },
    {
     "data": {
      "image/png": "[encoded data removed]",
      "text/plain": [
       "<Figure size 640x480 with 1 Axes>"
      ]
     },
     "metadata": {},
     "output_type": "display_data"
    }
   ],
   "source": [
    "# potential scaling factor\n",
    "s = A.radius + B.radius\n",
    "\n",
    "x = np.linspace(0, 2.0, 100)\n",
    "plt.plot(x, [pot_aa(xx, s) for xx in x], 'r--', label='AA')\n",
    "plt.plot(x, [pot_bb(xx, s) for xx in x], 'b--', label='BB')\n",
    "plt.plot(x, [pot_ab(xx, s) for xx in x], 'g--', label='AB')\n",
    "plt.ylim([-10, 100])\n",
    "plt.grid(visible=True)\n",
    "plt.legend()"
   ]
  },
  {
   "cell_type": "markdown",
   "metadata": {},
   "source": [
    "Cell Motility\n",
    "--------------\n",
    "\n",
    "Biologically, cells are motile. Theoretically, a random force enables objects with overdamped dynamics to move around and prevents them from being trapped in a local energy minimum. \n",
    "Add a random force to introduce cell motility. "
   ]
  },
  {
   "cell_type": "code",
   "execution_count": 5,
   "metadata": {},
   "outputs": [
    {
     "data": {
      "text/plain": [
       "0"
      ]
     },
     "execution_count": 5,
     "metadata": {},
     "output_type": "execute_result"
    }
   ],
   "source": [
    "# create a random force\n",
    "rforce = tf.Force.random(mean=0, std=50)\n",
    "\n",
    "# bind the force by type\n",
    "tf.bind.force(rforce, A)\n",
    "tf.bind.force(rforce, B)"
   ]
  },
  {
   "cell_type": "markdown",
   "metadata": {},
   "source": [
    "Particle Construction\n",
    "----------------------\n",
    "\n",
    "Typical cell sorting experiments begin with a randomly distributed aggregate of cells, where their migration over time leads to a sorted configuration by type. \n",
    "Create particles at randomly selected locations. "
   ]
  },
  {
   "cell_type": "code",
   "execution_count": 6,
   "metadata": {},
   "outputs": [],
   "source": [
    "for p in np.random.random((A_count, 3)) * 15 + 2.5:\n",
    "    A(p)\n",
    "\n",
    "for p in np.random.random((B_count, 3)) * 15 + 2.5:\n",
    "    B(p)"
   ]
  },
  {
   "cell_type": "code",
   "execution_count": 7,
   "metadata": {
    "nbsphinx-thumbnail": {
     "output-index": 0
    }
   },
   "outputs": [
    {
     "data": {
      "application/vnd.jupyter.widget-view+json": {
       "model_id": "44b8472dbd584af5911c2492d6eb243c",
       "version_major": 2,
       "version_minor": 0
      },
      "text/plain": [
       "VBox(children=(Image(value=b'\\xff\\xd8\\xff\\xe0\\x00\\x10JFIF\\x00\\x01\\x01\\x00\\x00\\x01\\x00\\x01\\x00\\x00\\xff\\xdb\\x00\\…"
      ]
     },
     "metadata": {},
     "output_type": "display_data"
    }
   ],
   "source": [
    "tf.show()"
   ]
  },
  {
   "cell_type": "code",
   "execution_count": 8,
   "metadata": {},
   "outputs": [
    {
     "data": {
      "application/vnd.jupyter.widget-view+json": {
       "model_id": "3c8a6faa48e64f88bcc9eea6b760b52d",
       "version_major": 2,
       "version_minor": 0
      },
      "text/plain": [
       "HBox(children=(ColorPicker(value='#ff0000', description='Color for type AType'), ColorPicker(value='#0000ff', …"
      ]
     },
     "execution_count": 8,
     "metadata": {},
     "output_type": "execute_result"
    }
   ],
   "source": [
    "color_picker_a = tf.notebook.set_ptype_color_picker(A)\n",
    "color_picker_b = tf.notebook.set_ptype_color_picker(B)\n",
    "hbox = ipw.HBox([color_picker_a, color_picker_b])\n",
    "hbox"
   ]
  }
 ],
 "metadata": {
  "kernelspec": {
   "display_name": "Python 3 (ipykernel)",
   "language": "python",
   "name": "python3"
  },
  "language_info": {
   "codemirror_mode": {
    "name": "ipython",
    "version": 3
   },
   "file_extension": ".py",
   "mimetype": "text/x-python",
   "name": "python",
   "nbconvert_exporter": "python",
   "pygments_lexer": "ipython3",
   "version": "3.8.19"
  },
  "vscode": {
   "interpreter": {
    "hash": "8bbe464f07c30b8ddcc12659b19f9425a9f52190f1c1f435f11a675a58da2254"
   }
  }
 },
 "nbformat": 4,
 "nbformat_minor": 4
}
