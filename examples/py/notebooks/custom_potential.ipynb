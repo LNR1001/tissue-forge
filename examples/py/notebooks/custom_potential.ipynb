{
 "cells": [
  {
   "cell_type": "markdown",
   "metadata": {},
   "source": [
    "Custom Potential\n",
    "=================\n",
    "\n",
    "While Tissue Forge provides an ever-growing inventory of built-in potentials, Tissue Forge also provides the ability to create and use custom potentials. \n",
    "This example demonstrates how to create a Pseudo-Gaussian potential directly in python and test it in a one-dimensional scenario. \n",
    "\n",
    "For details on the specifics of the Pseudo-Gaussian potential, see \n",
    "\n",
    "> Cotăescu, Ion I., Paul Grăvilă, and Marius Paulescu. \"Pseudo-Gaussian oscillators.\" International Journal of Modern Physics C 19.10 (2008): 1607-1615."
   ]
  },
  {
   "cell_type": "markdown",
   "metadata": {},
   "source": [
    "Basic Setup\n",
    "------------\n",
    "\n",
    "Begin by initializing Tissue Forge with no-slip boundary conditions along ``x``, which will be the direction along which particles will be placed and tested in a one-dimensional scenario. "
   ]
  },
  {
   "cell_type": "code",
   "execution_count": 1,
   "metadata": {},
   "outputs": [],
   "source": [
    "import tissue_forge as tf\n",
    "from math import exp, factorial\n",
    "\n",
    "tf.init(cutoff=5, bc={'x': 'noslip'})"
   ]
  },
  {
   "cell_type": "markdown",
   "metadata": {},
   "source": [
    "Particle Types\n",
    "---------------\n",
    "\n",
    "The test scenario considers an invisible, fixed source of a Pseudo-Gaussian potential at the center of the domain that displaces particles along the ``x``-direction. \n",
    "Create two particles types, \n",
    "\n",
    "1. A fixed, invisible type\n",
    "2. A particle type that cannot move along the ``y``- and ``z``-directions. "
   ]
  },
  {
   "cell_type": "code",
   "execution_count": 2,
   "metadata": {},
   "outputs": [],
   "source": [
    "class WellType(tf.ParticleTypeSpec):\n",
    "    \"\"\"A particle type to act as a fixed source of a Pseudo-Gaussian potential\"\"\"\n",
    "    frozen = True\n",
    "    style = {'visible': False}\n",
    "\n",
    "\n",
    "class SmallType(tf.ParticleTypeSpec):\n",
    "    \"\"\"A particle type that displaces in a fixed Pseudo-Gaussian potential\"\"\"\n",
    "    radius = 0.1\n",
    "    \n",
    "    @classmethod\n",
    "    def get(cls):\n",
    "        result = super().get()\n",
    "        result.frozen_y = result.frozen_z = True\n",
    "        return result\n",
    "\n",
    "\n",
    "well_type, small_type = WellType.get(), SmallType.get()"
   ]
  },
  {
   "cell_type": "markdown",
   "metadata": {},
   "source": [
    "Potential Definition\n",
    "---------------------\n",
    "\n",
    "Generally, Tissue Forge can create custom potentials in python using at least a function that takes the distance between two particles as an argument and returns the value of the potential. Additionally, Tissue Forge can also use functions for the first and sixth derivatives of the potential, and approximates whichever of these two when they are not provided using finite difference. \n",
    "\n",
    "Create a python function for Tissue Forge to create a potential of the form, \n",
    "\n",
    "$ V \\left( r \\right) = \\sum_{0 \\leq k \\leq s} \\frac{\\left( \\lambda + k \\right) \\mu^k}{k!} r^{2k} \\exp \\left( - \\mu r^2 \\right) $"
   ]
  },
  {
   "cell_type": "code",
   "execution_count": 3,
   "metadata": {},
   "outputs": [],
   "source": [
    "# Custom potential function parameters\n",
    "lam, mu, s = -0.5, 1.0, 3\n",
    "\n",
    "\n",
    "def f(r: float):\n",
    "    \"\"\"Pseudo-Gaussian potential evaluated at r\"\"\"\n",
    "    return sum([(lam + k) / factorial(k) * mu ** k * r ** (2 * k) for k in range(s+1)]) * exp(-mu * r * r)"
   ]
  },
  {
   "cell_type": "markdown",
   "metadata": {},
   "source": [
    "Custom Potential\n",
    "-----------------\n",
    "\n",
    "Create and verify a potential object using the custom potential function definition, give it a name, and apply it to the particle types of the test scenario. "
   ]
  },
  {
   "cell_type": "code",
   "execution_count": 4,
   "metadata": {
    "scrolled": false
   },
   "outputs": [
    {
     "name": "stdout",
     "output_type": "stream",
     "text": [
      "ymax:  0.9808318614959717 ymin: -0.5 yrange: 1.4808318614959717\n",
      "Ylim:  -0.6480831861495971 1.128915047645569\n"
     ]
    },
    {
     "data": {
      "image/png": "[encoded data removed]",
      "text/plain": [
       "<Figure size 432x288 with 1 Axes>"
      ]
     },
     "metadata": {
      "needs_background": "light"
     },
     "output_type": "display_data"
    },
    {
     "data": {
      "text/plain": [
       "[<matplotlib.lines.Line2D at 0x270918e5fa0>]"
      ]
     },
     "execution_count": 4,
     "metadata": {},
     "output_type": "execute_result"
    }
   ],
   "source": [
    "pot_c = tf.Potential.custom(min=0, max=5, f=f)\n",
    "pot_c.name = \"Pseudo-Gaussian\"\n",
    "tf.bind.types(p=pot_c, a=well_type, b=small_type)\n",
    "pot_c.plot(min=0, max=5, potential=True, force=False)"
   ]
  },
  {
   "cell_type": "markdown",
   "metadata": {},
   "source": [
    "Particle Construction\n",
    "----------------------\n",
    "\n",
    "Place a single well particle and the center of the domain, and small particles at regular intervals along the ``x``-axis. "
   ]
  },
  {
   "cell_type": "code",
   "execution_count": 5,
   "metadata": {},
   "outputs": [],
   "source": [
    "# Create particles\n",
    "well_type(position=tf.Universe.center, velocity=tf.FVector3(0))\n",
    "num_particles = 20\n",
    "for i in range(num_particles):\n",
    "    small_type(position=tf.FVector3((i+1)/(num_particles + 1) * tf.Universe.dim[0], \n",
    "                                      tf.Universe.center[1], \n",
    "                                      tf.Universe.center[2]),\n",
    "               velocity=tf.FVector3(0))"
   ]
  },
  {
   "cell_type": "code",
   "execution_count": 6,
   "metadata": {
    "nbsphinx-thumbnail": {
     "output-index": 0
    }
   },
   "outputs": [
    {
     "data": {
      "application/vnd.jupyter.widget-view+json": {
       "model_id": "ac2bd26dc21647b18200ef9bfd5309b0",
       "version_major": 2,
       "version_minor": 0
      },
      "text/plain": [
       "VBox(children=(Image(value=b'\\xff\\xd8\\xff\\xe0\\x00\\x10JFIF\\x00\\x01\\x01\\x00\\x00\\x01\\x00\\x01\\x00\\x00\\xff\\xdb\\x00\\…"
      ]
     },
     "metadata": {},
     "output_type": "display_data"
    }
   ],
   "source": [
    "tf.system.camera_view_top()\n",
    "tf.show()"
   ]
  }
 ],
 "metadata": {
  "kernelspec": {
   "display_name": "Python 3 (ipykernel)",
   "language": "python",
   "name": "python3"
  },
  "language_info": {
   "codemirror_mode": {
    "name": "ipython",
    "version": 3
   },
   "file_extension": ".py",
   "mimetype": "text/x-python",
   "name": "python",
   "nbconvert_exporter": "python",
   "pygments_lexer": "ipython3",
   "version": "3.8.13"
  },
  "vscode": {
   "interpreter": {
    "hash": "8bbe464f07c30b8ddcc12659b19f9425a9f52190f1c1f435f11a675a58da2254"
   }
  }
 },
 "nbformat": 4,
 "nbformat_minor": 2
}
